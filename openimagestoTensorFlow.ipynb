{
 "cells": [
  {
   "cell_type": "code",
   "execution_count": 3,
   "metadata": {},
   "outputs": [
    {
     "name": "stdout",
     "output_type": "stream",
     "text": [
      "Requirement already satisfied: opencv-python in c:\\users\\paperspace\\anaconda3\\envs\\starlight\\lib\\site-packages (4.6.0.66)\n",
      "Requirement already satisfied: numpy>=1.19.3 in c:\\users\\paperspace\\anaconda3\\envs\\starlight\\lib\\site-packages (from opencv-python) (1.23.2)\n",
      "Requirement already satisfied: opencv-python-headless in c:\\users\\paperspace\\anaconda3\\envs\\starlight\\lib\\site-packages (4.6.0.66)\n",
      "Requirement already satisfied: numpy>=1.14.5 in c:\\users\\paperspace\\anaconda3\\envs\\starlight\\lib\\site-packages (from opencv-python-headless) (1.23.2)\n"
     ]
    }
   ],
   "source": [
    "!pip install opencv-python\n",
    "!pip install opencv-python-headless\n",
    "\n",
    "from PIL import Image\n",
    "from IPython.display import display\n",
    "import os\n",
    "import xml.etree.ElementTree as gfg\n",
    "import pandas as pd\n",
    "import cv2\n"
   ]
  },
  {
   "cell_type": "code",
   "execution_count": 2,
   "metadata": {},
   "outputs": [
    {
     "name": "stdout",
     "output_type": "stream",
     "text": [
      "14610229\n",
      "21\n",
      "600\n",
      "2\n"
     ]
    }
   ],
   "source": [
    "\n",
    "\n",
    "#first get the detections from openimages\n",
    "detections = pd.read_csv(\"C:/Users/paperspace/fiftyone/open-images-v6/train/labels/detections.csv\")\n",
    "\n",
    "count_row = detections.shape[0]  # Gives number of rows\n",
    "count_col = detections.shape[1]  # Gives number of columns\n",
    "\n",
    "print(count_row)\n",
    "print(count_col)\n",
    "\n",
    "\n",
    "#get the classes from openimages\n",
    "classes =  pd.read_csv(\"C:/Users/paperspace/fiftyone/open-images-v6/train/metadata/classes.csv\")\n",
    "\n",
    "classes.columns =['code', 'name']\n",
    "\n",
    "count_row_classes = classes.shape[0]  # Gives number of rows\n",
    "count_col_classes = classes.shape[1]  # Gives number of columns\n",
    "\n",
    "print(count_row_classes)\n",
    "print(count_col_classes)\n"
   ]
  },
  {
   "cell_type": "code",
   "execution_count": 3,
   "metadata": {},
   "outputs": [],
   "source": [
    "#our classes\n",
    "my_classes = [\"Apple\",\"Mug\",\"Tin can\"]"
   ]
  },
  {
   "cell_type": "code",
   "execution_count": 1,
   "metadata": {
    "scrolled": true
   },
   "outputs": [
    {
     "ename": "ModuleNotFoundError",
     "evalue": "No module named 'cv2'",
     "output_type": "error",
     "traceback": [
      "\u001b[1;31m---------------------------------------------------------------------------\u001b[0m",
      "\u001b[1;31mModuleNotFoundError\u001b[0m                       Traceback (most recent call last)",
      "\u001b[1;32m<ipython-input-1-eff4d3cffeca>\u001b[0m in \u001b[0;36m<module>\u001b[1;34m\u001b[0m\n\u001b[0;32m      1\u001b[0m \u001b[1;31m#now run through all our images\u001b[0m\u001b[1;33m\u001b[0m\u001b[1;33m\u001b[0m\u001b[1;33m\u001b[0m\u001b[0m\n\u001b[0;32m      2\u001b[0m \u001b[1;32mfrom\u001b[0m \u001b[0mPIL\u001b[0m \u001b[1;32mimport\u001b[0m \u001b[0mImage\u001b[0m\u001b[1;33m\u001b[0m\u001b[1;33m\u001b[0m\u001b[0m\n\u001b[1;32m----> 3\u001b[1;33m \u001b[1;32mimport\u001b[0m \u001b[0mcv2\u001b[0m\u001b[1;33m\u001b[0m\u001b[1;33m\u001b[0m\u001b[0m\n\u001b[0m\u001b[0;32m      4\u001b[0m \u001b[1;32mfrom\u001b[0m \u001b[0mIPython\u001b[0m\u001b[1;33m.\u001b[0m\u001b[0mdisplay\u001b[0m \u001b[1;32mimport\u001b[0m \u001b[0mdisplay\u001b[0m\u001b[1;33m\u001b[0m\u001b[1;33m\u001b[0m\u001b[0m\n\u001b[0;32m      5\u001b[0m \u001b[1;32mimport\u001b[0m \u001b[0mos\u001b[0m\u001b[1;33m\u001b[0m\u001b[1;33m\u001b[0m\u001b[0m\n",
      "\u001b[1;31mModuleNotFoundError\u001b[0m: No module named 'cv2'"
     ]
    }
   ],
   "source": [
    "directory = \"C:/Users/paperspace/fiftyone/open-images-v6/train/data\"\n",
    "\n",
    "counter = 0\n",
    "\n",
    "def GenerateXML(filename,img) :\n",
    "    \n",
    "    root = gfg.Element(\"annotation\")\n",
    "      \n",
    "    _folder = gfg.SubElement(root, \"folder\")\n",
    "    _folder.text = \"data\"\n",
    "   \n",
    "    _filename = gfg.SubElement(root,\"filename\")\n",
    "    _filename.text = filename\n",
    "   \n",
    "    _path = gfg.SubElement(root,\"path\")\n",
    "    _path.text = directory+\"/\"+filename\n",
    "  \n",
    "    _source = gfg.SubElement(root,\"source\")\n",
    "    _database = gfg.SubElement(_source,\"source\")\n",
    "    _database.text = \"Unknown\"\n",
    "    \n",
    "    height, width, channels = img.shape\n",
    "     \n",
    "    _size = gfg.SubElement(root,\"size\")\n",
    "    _width = gfg.SubElement(_size,\"width\")\n",
    "    _width.text = str(width)\n",
    "    _height = gfg.SubElement(_size,\"height\")\n",
    "    _height.text = str(height)\n",
    "    _depth = gfg.SubElement(_size,\"depth\")\n",
    "    _depth.text = str(channels)\n",
    "    \n",
    "    _segmented = gfg.SubElement(root,\"segmented\")\n",
    "    _segmented.text = \"0\"\n",
    "    \n",
    "    #now start searching for the image in the detections (might be more than one)\n",
    "    subsetdetections = detections.loc[detections['ImageID'] == os.path.splitext(filename)[0]]\n",
    "    \n",
    "    print(subsetdetections.shape[0], labelname.iat[0,2])\n",
    "    \n",
    "    for index, row in subsetdetections.iterrows():\n",
    "        #serach for the labelname\n",
    "        labelname = classes.loc[classes['code'] == row['LabelName']]\n",
    "        \n",
    "        for cls in my_classes:\n",
    "            if labelname.iat[0,1] == cls:\n",
    "                #get the bounding box detections\n",
    "                perc_xmin = float(width)*float(row['XMin'])\n",
    "                perc_xmax = float(width)*float(row['XMax'])\n",
    "                perc_ymin = float(height)*float(row['YMin'])\n",
    "                perc_ymax = float(height)*float(row['YMax'])\n",
    "                \n",
    "                #cv2.rectangle(img, (int(perc_xmin),int(perc_ymin)),(int(perc_xmax),int(perc_ymax)), (255,0,0), 2)\n",
    "                #img_r = cv2.cvtColor(img, cv2.COLOR_BGR2RGB) # Converting BGR to RGB\n",
    "                #display(Image.fromarray(img_r))\n",
    "                \n",
    "                #print(row['ImageID'], row['LabelName'], labelname.iat[0,1])\n",
    "                \n",
    "                _object = gfg.SubElement(root,\"object\")\n",
    "                _name = gfg.SubElement(_object,\"name\")\n",
    "                _name.text = labelname.iat[0,1]\n",
    "                _pose = gfg.SubElement(_object,\"pose\")\n",
    "                _pose.text = \"Unspecified\"\n",
    "                _truncated = gfg.SubElement(_object,\"truncated\")\n",
    "                _truncated.text = \"0\"\n",
    "                _difficult = gfg.SubElement(_object,\"difficult\")\n",
    "                _difficult.text = \"0\"\n",
    "                _bndbox = gfg.SubElement(_object,\"bndbox\")\n",
    "                _xmin =  gfg.SubElement(_bndbox,\"xmin\")\n",
    "                _ymin =  gfg.SubElement(_bndbox,\"ymin\")\n",
    "                _xmax =  gfg.SubElement(_bndbox,\"xmax\")\n",
    "                _ymax =  gfg.SubElement(_bndbox,\"ymax\")\n",
    "                _xmin.text = str(int(perc_xmin))\n",
    "                _ymin.text = str(int(perc_ymin))\n",
    "                _xmax.text = str(int(perc_xmax))\n",
    "                _ymax.text = str(int(perc_ymax))\n",
    "                \n",
    "    #ree = gfg.ElementTree(root)\n",
    "    \n",
    "    #with open (directory+\"/\"+os.path.splitext(filename)[0]+'.xml' , \"wb\") as files :\n",
    "        #tree.write(files)\n",
    "\n",
    "def process_images(folder):    \n",
    "    global counter \n",
    "    for filename in os.listdir(folder):\n",
    "        img = cv2.imread(os.path.join(folder,filename))\n",
    "        if img is not None:\n",
    "            #height, width, channels = img.shape\n",
    "            #print(height,width)\n",
    "            GenerateXML(filename,img)\n",
    "            print(\"**********************************\")\n",
    "            counter = counter+1\n",
    "            print(counter)\n",
    "\n",
    "            \n",
    "process_images(directory)"
   ]
  },
  {
   "cell_type": "code",
   "execution_count": null,
   "metadata": {
    "scrolled": true
   },
   "outputs": [],
   "source": []
  }
 ],
 "metadata": {
  "kernelspec": {
   "display_name": "Python 3",
   "language": "python",
   "name": "python3"
  },
  "language_info": {
   "codemirror_mode": {
    "name": "ipython",
    "version": 3
   },
   "file_extension": ".py",
   "mimetype": "text/x-python",
   "name": "python",
   "nbconvert_exporter": "python",
   "pygments_lexer": "ipython3",
   "version": "3.7.6"
  }
 },
 "nbformat": 4,
 "nbformat_minor": 5
}
