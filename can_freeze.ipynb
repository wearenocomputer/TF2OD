{
 "cells": [
  {
   "cell_type": "code",
   "execution_count": 1,
   "id": "b12ea536",
   "metadata": {},
   "outputs": [],
   "source": [
    "PRETRAINED_MODEL_NAME = 'ssd_mobilenet_v2_fpnlite_320x320_coco17_tpu-8'\n",
    "CUSTOM_MODEL_NAME = 'my_ssd_mobilenet_v2_fpnlite_320x320_coco17_tpu-8'\n",
    "TF_RECORD_SCRIPT_NAME = 'generate_tfrecord.py'\n",
    "LABEL_MAP_NAME = 'label_map.pbtxt'\n",
    "\n",
    "ROOT_WORKSPACE = 'workspace_tiffanies'\n",
    "\n",
    "import os\n",
    "paths = {\n",
    "    'APIMODEL_PATH': 'object_detection',\n",
    "    'WORKSPACE_PATH': ROOT_WORKSPACE,\n",
    "    'ANNOTATION_PATH': os.path.join(ROOT_WORKSPACE,CUSTOM_MODEL_NAME,'model_data','data'),\n",
    "    'CHECKPOINT_PATH': os.path.join(ROOT_WORKSPACE,CUSTOM_MODEL_NAME,'model_data','model'),\n",
    "    'OUTPUT_PATH': os.path.join(ROOT_WORKSPACE,CUSTOM_MODEL_NAME,'model_data','model', 'export'), \n",
    "    'TFJS_PATH':os.path.join(ROOT_WORKSPACE,CUSTOM_MODEL_NAME,'model_data','model','tfjsexport'), \n",
    "    'IMAGE_PATH': os.path.join(ROOT_WORKSPACE,'images'),\n",
    "    'PRETRAINED_MODEL_PATH': os.path.join(ROOT_WORKSPACE,CUSTOM_MODEL_NAME),\n",
    "    'SCRIPTS_PATH': 'scripts'\n",
    "}\n",
    "\n",
    "files = {\n",
    "    'PIPELINE_CONFIG':os.path.join(paths['CHECKPOINT_PATH'], 'pipeline.config'),\n",
    "    'TF_RECORD_SCRIPT': os.path.join(paths['SCRIPTS_PATH'], TF_RECORD_SCRIPT_NAME), \n",
    "    'LABELMAP': os.path.join(paths['ANNOTATION_PATH'], LABEL_MAP_NAME)\n",
    "}"
   ]
  },
  {
   "cell_type": "code",
   "execution_count": 2,
   "id": "6ec96774",
   "metadata": {},
   "outputs": [],
   "source": [
    "FREEZE_SCRIPT = os.path.join(paths['APIMODEL_PATH'], 'exporter_main_v2.py ')"
   ]
  },
  {
   "cell_type": "code",
   "execution_count": 3,
   "id": "9e7e0989",
   "metadata": {},
   "outputs": [],
   "source": [
    "command = \"python {} --input_type=image_tensor --pipeline_config_path={} --trained_checkpoint_dir={} --output_directory={}\".format(FREEZE_SCRIPT ,files['PIPELINE_CONFIG'], paths['CHECKPOINT_PATH'], paths['OUTPUT_PATH'])"
   ]
  },
  {
   "cell_type": "code",
   "execution_count": 4,
   "id": "77931dfd",
   "metadata": {},
   "outputs": [
    {
     "name": "stdout",
     "output_type": "stream",
     "text": [
      "python object_detection\\exporter_main_v2.py  --input_type=image_tensor --pipeline_config_path=workspace_tiffanies\\my_ssd_mobilenet_v2_fpnlite_320x320_coco17_tpu-8\\model_data\\model\\pipeline.config --trained_checkpoint_dir=workspace_tiffanies\\my_ssd_mobilenet_v2_fpnlite_320x320_coco17_tpu-8\\model_data\\model --output_directory=workspace_tiffanies\\my_ssd_mobilenet_v2_fpnlite_320x320_coco17_tpu-8\\model_data\\model\\export\n"
     ]
    }
   ],
   "source": [
    "print(command)"
   ]
  },
  {
   "cell_type": "code",
   "execution_count": 14,
   "id": "41f54eff",
   "metadata": {},
   "outputs": [],
   "source": [
    "#export to tensorflowjs"
   ]
  },
  {
   "cell_type": "code",
   "execution_count": 15,
   "id": "d543821f",
   "metadata": {},
   "outputs": [
    {
     "name": "stdout",
     "output_type": "stream",
     "text": [
      "tensorflowjs_converter --input_format=tf_saved_model --output_node_names='detection_boxes,detection_classes,detection_features,detection_multiclass_scores,detection_scores,num_detections,raw_detection_boxes,raw_detection_scores' --output_format=tfjs_graph_model --signature_name=serving_default workspace_can_all_together\\my_ssd_mobilenet_v2_fpnlite_320x320_coco17_tpu-8\\model_data\\model\\export\\saved_model workspace_can_all_together\\my_ssd_mobilenet_v2_fpnlite_320x320_coco17_tpu-8\\model_data\\model\\tfjsexport\n"
     ]
    }
   ],
   "source": [
    "command = \"tensorflowjs_converter --input_format=tf_saved_model --output_node_names='detection_boxes,detection_classes,detection_features,detection_multiclass_scores,detection_scores,num_detections,raw_detection_boxes,raw_detection_scores' --output_format=tfjs_graph_model --signature_name=serving_default {} {}\".format(os.path.join(paths['OUTPUT_PATH'], 'saved_model'), paths['TFJS_PATH'])\n",
    "print(command)"
   ]
  },
  {
   "cell_type": "code",
   "execution_count": null,
   "id": "2b019062",
   "metadata": {},
   "outputs": [],
   "source": []
  },
  {
   "cell_type": "code",
   "execution_count": 16,
   "id": "f7db464f",
   "metadata": {},
   "outputs": [
    {
     "name": "stdout",
     "output_type": "stream",
     "text": [
      "tensorflowjs_converter --input_format=tf_saved_model --output_node_names='detection_boxes,detection_classes,detection_features,detection_multiclass_scores,detection_scores,num_detections,raw_detection_boxes,raw_detection_scores' --output_format=tfjs_graph_model --signature_name=serving_default workspace_can_all_together\\my_ssd_mobilenet_v2_fpnlite_320x320_coco17_tpu-8\\model_data\\model\\export\\saved_model workspace_can_all_together\\my_ssd_mobilenet_v2_fpnlite_320x320_coco17_tpu-8\\model_data\\model\\tfjsexport\n"
     ]
    }
   ],
   "source": []
  },
  {
   "cell_type": "code",
   "execution_count": null,
   "id": "76fceaab",
   "metadata": {},
   "outputs": [],
   "source": []
  }
 ],
 "metadata": {
  "kernelspec": {
   "display_name": "Python 3 (ipykernel)",
   "language": "python",
   "name": "python3"
  },
  "language_info": {
   "codemirror_mode": {
    "name": "ipython",
    "version": 3
   },
   "file_extension": ".py",
   "mimetype": "text/x-python",
   "name": "python",
   "nbconvert_exporter": "python",
   "pygments_lexer": "ipython3",
   "version": "3.8.0"
  }
 },
 "nbformat": 4,
 "nbformat_minor": 5
}
