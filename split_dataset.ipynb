{
 "cells": [
  {
   "cell_type": "code",
   "execution_count": 1,
   "id": "e0f5c43d",
   "metadata": {},
   "outputs": [],
   "source": [
    "PRETRAINED_MODEL_NAME = 'ssd_mobilenet_v2_fpnlite_320x320_coco17_tpu-8'\n",
    "CUSTOM_MODEL_NAME = 'my_ssd_mobilenet_v2_fpnlite_320x320_coco17_tpu-8'\n",
    "TF_RECORD_SCRIPT_NAME = 'generate_tfrecord.py'\n",
    "LABEL_MAP_NAME = 'label_map.pbtxt'\n",
    "\n",
    "ROOT_WORKSPACE = 'workspace_openimages'"
   ]
  },
  {
   "cell_type": "code",
   "execution_count": 2,
   "id": "395239ee",
   "metadata": {},
   "outputs": [],
   "source": [
    "import os\n",
    "paths = {\n",
    "    'APIMODEL_PATH': 'object_detection',\n",
    "    'WORKSPACE_PATH': ROOT_WORKSPACE,\n",
    "    'ANNOTATION_PATH': os.path.join(ROOT_WORKSPACE,CUSTOM_MODEL_NAME,'model_data','data'),\n",
    "    'CHECKPOINT_PATH': os.path.join(ROOT_WORKSPACE,CUSTOM_MODEL_NAME,'model_data','model'),\n",
    "    'OUTPUT_PATH': os.path.join(ROOT_WORKSPACE,CUSTOM_MODEL_NAME,'model_data','model', 'export'), \n",
    "    'TFJS_PATH':os.path.join(ROOT_WORKSPACE,CUSTOM_MODEL_NAME,'model_data','model','tfjsexport'), \n",
    "    'IMAGE_PATH': os.path.join(ROOT_WORKSPACE,'images'),\n",
    "    'IMAGE_PATH_TRAIN': os.path.join(ROOT_WORKSPACE,'images','train'),\n",
    "    'IMAGE_PATH_TEST': os.path.join(ROOT_WORKSPACE,'images','test'),\n",
    "    'PRETRAINED_MODEL_PATH': os.path.join(ROOT_WORKSPACE,CUSTOM_MODEL_NAME),\n",
    "    'SCRIPTS_PATH': 'scripts'\n",
    " }"
   ]
  },
  {
   "cell_type": "code",
   "execution_count": 3,
   "id": "d7cc8110",
   "metadata": {},
   "outputs": [],
   "source": [
    "#CREATE THESE FOLDERS\n",
    "for path in paths.values():\n",
    "    if not os.path.exists(path):\n",
    "        if os.name == 'posix':\n",
    "            !mkdir -p {path}\n",
    "        if os.name == 'nt':\n",
    "            !mkdir {path}"
   ]
  },
  {
   "cell_type": "code",
   "execution_count": 4,
   "id": "51f6355d",
   "metadata": {},
   "outputs": [],
   "source": [
    "#create dataset\n",
    "import os\n",
    "source1 = \"C:/Users/wimva/fiftyone/open-images-v6/train/data\"\n",
    "dest11 = \"C:/nocomputer/Starlight/CanRecognizer/_____cans/workspace_openimages/images/test\"\n",
    "dest12 = \"C:/nocomputer/Starlight/CanRecognizer/_____cans/workspace_openimages/images/train\"\n",
    "files = os.listdir(source1)\n",
    "import shutil\n",
    "import numpy as np\n",
    "\n",
    "all_jpgs = []\n",
    "\n",
    "for f in files:    \n",
    "    if os.path.splitext(f)[1] == \".jpg\":\n",
    "        all_jpgs.append(f)\n",
    "        \n",
    "for jpg in all_jpgs:\n",
    "    \n",
    "    filename = os.path.splitext(jpg)[0]\n",
    "    \n",
    "    if np.random.rand(1) < 0.2:\n",
    "        shutil.move(source1 + '/'+ jpg, dest11 + '/'+ jpg)\n",
    "        shutil.move(source1 + '/'+ filename+\".xml\", dest11 + '/'+ filename+\".xml\")\n",
    "    else:\n",
    "        shutil.move(source1 + '/'+ jpg, dest12 + '/'+ jpg)\n",
    "        shutil.move(source1 + '/'+ filename+\".xml\", dest12 + '/'+ filename+\".xml\")"
   ]
  },
  {
   "cell_type": "code",
   "execution_count": null,
   "id": "fe30b80f",
   "metadata": {},
   "outputs": [],
   "source": []
  }
 ],
 "metadata": {
  "kernelspec": {
   "display_name": "Python 3 (ipykernel)",
   "language": "python",
   "name": "python3"
  },
  "language_info": {
   "codemirror_mode": {
    "name": "ipython",
    "version": 3
   },
   "file_extension": ".py",
   "mimetype": "text/x-python",
   "name": "python",
   "nbconvert_exporter": "python",
   "pygments_lexer": "ipython3",
   "version": "3.8.0"
  }
 },
 "nbformat": 4,
 "nbformat_minor": 5
}
